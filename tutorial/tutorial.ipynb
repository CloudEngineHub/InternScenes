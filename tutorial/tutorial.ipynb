{
 "cells": [
  {
   "cell_type": "markdown",
   "metadata": {},
   "source": [
    "# InternScenes Tutorial\n",
    "Welcome to the InternScenes tutorial.\n",
    "\n",
    "This demo shows the usage of dataset Explorer."
   ]
  },
  {
   "cell_type": "markdown",
   "metadata": {},
   "source": [
    "## Compose a scene using models from assets library"
   ]
  },
  {
   "cell_type": "code",
   "execution_count": null,
   "metadata": {},
   "outputs": [],
   "source": [
    "# code of composing glb scenes\n",
    "import os\n",
    "import sys\n",
    "from pathlib import Path\n",
    "BASE_DIR = Path(os.getcwd()).parent\n",
    "sys.path.append(str(BASE_DIR))\n",
    "\n",
    "from InternScenes.InternScenes_Real2Sim.compose_scenes import SceneComposer\n",
    "\n",
    "scene_composer = SceneComposer()\n",
    "scene_name = \"scannet/scene0000_00\"\n",
    "scene_composer.compose_one_scene(\n",
    "    scene_name, \n",
    "    use_texture = True,  # whether to use texture\n",
    "    add_floor = True,  # whether to add floor into the scene\n",
    "    add_wall = True,  # whether to add wall into the scene\n",
    "    add_ceiling = True # whether to add ceiling into the scene\n",
    ")\n"
   ]
  },
  {
   "cell_type": "markdown",
   "metadata": {},
   "source": [
    "## Visualize\n",
    "\n",
    "### Visualize bounding boxes using GLB file\n",
    "The bounding boxes in the scene can be exported as a glb file and viewed with 3D software such as Blender."
   ]
  },
  {
   "cell_type": "code",
   "execution_count": 1,
   "metadata": {},
   "outputs": [
    {
     "name": "stdout",
     "output_type": "stream",
     "text": [
      "scene saved to ./examples/bbox_scenes/bbox_scene.glb\n"
     ]
    }
   ],
   "source": [
    "# code for saving bounding boxes as glb file\n",
    "import os\n",
    "import sys\n",
    "import json\n",
    "from pathlib import Path\n",
    "BASE_DIR = Path(os.getcwd()).parent\n",
    "sys.path.append(str(BASE_DIR))\n",
    "from InternScenes.InternScenes_Real2Sim.save_bbox_scene import compose_bboxes_scene\n",
    "\n",
    "# load bboxes\n",
    "json_path = os.path.join(BASE_DIR, \"data/Layout_info/scannet/scene0000_00/layout.json\")\n",
    "save_path = \"./examples/bbox_scenes/bbox_scene.glb\"\n",
    "instance_infos = json.load(open(json_path, \"r\"))\n",
    "bboxes = []\n",
    "for instance_info in instance_infos:\n",
    "    bboxes.append(instance_info[\"bbox\"])\n",
    "\n",
    "# save bboxes as glb file\n",
    "compose_bboxes_scene(\n",
    "    bboxes,  # bboxes to be saved\n",
    "    save_path,  # path to save the glb file\n",
    "    show_scene=False  # whether to show the scene\n",
    ")"
   ]
  },
  {
   "cell_type": "markdown",
   "metadata": {},
   "source": [
    "### Blender Visualization\n",
    "\n",
    "For higher-quality rendering and interacting, we recommend using the Blender to visualize and navigate in the scene.\n",
    "\n",
    "1. 🔗 Install Blender  [Download Blender](https://www.blender.org/download/)  \n",
    "\n",
    "2. Open Blender and import the scene file which has been composed in the previous steps.\n"
   ]
  },
  {
   "cell_type": "markdown",
   "metadata": {},
   "source": [
    "## Convert GLB to USD\n",
    "\n",
    "This guide explains how to convert a `.glb` file (binary GLTF format) to `.usd` (Universal Scene Description) format using available tools."
   ]
  },
  {
   "cell_type": "code",
   "execution_count": null,
   "metadata": {},
   "outputs": [],
   "source": [
    "import os\n",
    "import sys\n",
    "import asyncio\n",
    "from pathlib import Path\n",
    "BASE_DIR = Path(os.getcwd()).parent\n",
    "sys.path.append(str(BASE_DIR))\n",
    "from InternScenes.InternScenes_Real2Sim.glb2usd import convert, set_usd_prim_orientation\n",
    "\n",
    "glb_path = \"./examples/bbox_scenes/bbox_scene.glb\"\n",
    "usd_path = os.path.join(BASE_DIR, \"tutorial/examples/bbox_scenes/bbox_scene.usd\")\n",
    "print(os.path.exists(usd_path))\n",
    "status = asyncio.get_event_loop().run_until_complete(\n",
    "    convert(glb_path, usd_path, load_materials = True)\n",
    ")\n",
    "if status:\n",
    "    print(f\"Successfully converted: {usd_path}\")\n",
    "    # set z up axis\n",
    "    set_usd_prim_orientation(usd_path)\n"
   ]
  },
  {
   "cell_type": "markdown",
   "metadata": {},
   "source": [
    "## List all model names in one scene\n"
   ]
  },
  {
   "cell_type": "code",
   "execution_count": null,
   "metadata": {},
   "outputs": [
    {
     "name": "stdout",
     "output_type": "stream",
     "text": [
      "partnet_mobility/103311\n",
      "partnet_mobility/103056\n",
      "partnet_mobility/34617\n",
      "partnet_mobility/47729\n",
      "hssd-models/objects/2/2d1ab5502d369b889e1121b26cc50cad703dfd6f\n",
      "gr100/home-others-curtain-14df3ee9a690c4767ba870da32919f67\n",
      "gr100/home-others-curtain-530881554eb0969aba7b6fbd07419a29\n",
      "partnet_mobility/26657\n",
      "partnet_mobility/47701\n",
      "hssd-models/objects/6/6cef10bb7d5b957779798987549d382aec6849c6\n",
      "hssd-models/objects/8/8046bdb393aa1e9257f1e0611c91f89f28f37355\n",
      "partnet_mobility/4108\n",
      "partnet_mobility/102210\n",
      "partnet_mobility/103013\n",
      "partnet_mobility/4627\n",
      "gr100/commercial-others-pillow-5de121e27b4b275eb9b267a259437701\n",
      "partnet_mobility/6934\n",
      "objaverse/b8f7d5d49fc7426b9e9f88c619022c99\n",
      "hssd-models/objects/1/11784b6fa57207d9f49ee6732224ff7443bb4d02\n",
      "3D-FUTURE-model/8e9783b3-2885-45bf-b926-07587fa1833f\n",
      "hssd-models/objects/9/999ce14924d99d6da8b84000c6e16b1fb6ce1a08\n",
      "hssd-models/objects/9/999ce14924d99d6da8b84000c6e16b1fb6ce1a08\n",
      "gen_assets/R-couch/1b8d76cdbfba43829563ba3fc99886a0\n",
      "partnet_mobility/10627\n",
      "partnet_mobility/29133\n",
      "partnet_mobility/32052\n",
      "partnet_mobility/102708\n",
      "3D-FUTURE-model/22da2ff5-6dd3-4c99-b179-b075a35eb3eb\n",
      "partnet_mobility/47443\n",
      "partnet_mobility/45387\n",
      "partnet_mobility/46199\n",
      "partnet_mobility/46019\n",
      "gr100/home-others-cabinet-06e16e91e80b6a6db4b91b7febe52ddf\n",
      "partnet_mobility/46437\n",
      "partnet_mobility/102060\n",
      "hssd-models/objects/a/ab9e7948fa591932fcf4813a2eed1d4269b5498e\n",
      "hssd-models/objects/4/43ea3f403dc977aebb0ca5ce4fa71297185c8be7\n",
      "hssd-models/objects/1/1472a0b835223f7c39e850146dbde04d28e99da1\n",
      "partnet_mobility/48169\n",
      "partnet_mobility/45420\n",
      "objaverse_old/6dbbd66c154f47dcbfdbcd210446f4fa\n",
      "partnet_mobility/7296\n",
      "partnet_mobility/103561\n",
      "partnet_mobility/9263\n",
      "hssd-models/objects/8/8f79b25bf93105c849e172333193374d16441ad0\n",
      "hssd-models/objects/3/323e91a7be4f48ea6f7f451d5f1d22edb030930c\n",
      "hssd-models/objects/c/c8b5bac9217dd13b6eb65e0cb4dfaa2852fce3db\n",
      "objaverse/d964e2b610024301aec93d42ea628352\n",
      "gr100/commercial-others-cup-44ec4f26426fbcab582b8aa1842580e6\n",
      "objaverse/f5ea1c211113479d9f642529402288e7\n",
      "objaverse/e0b3b937380e4e9a80f51dae5c3bb778\n",
      "hssd-models/objects/openings/211-36\n",
      "gr100/home-others-mirror-f6c117de29bb3ec19d15457cf6d49b55\n",
      "objaverse_old/d0fbadd14710419388a40d7505fca6c4\n",
      "partnet_mobility/2364\n",
      "objaverse/8f5bcdc1b8ec47a395402c0284b47d6e\n",
      "gr100/home-others-plant-0ffd448b79e7cea62c740a3273c1eb94\n",
      "gr100/commercial-others-book-c371b111817bf9fc4831492311b7290a\n",
      "gr100/home-others-book-fda3339cb0fad47b2df1116f918cb5bb\n",
      "objaverse_old/77e17b8715ef4a07aeb5c8105a0c9393\n",
      "gr100/commercial-others-book-8a9105a21cfbad67d6a1a36cc040ee14\n",
      "objaverse/197bf3f2cb4d40f28fbbbaf7191ad019\n",
      "objaverse/d150454f2ce94372a164dc06f7538803\n",
      "partnet_mobility/101002\n",
      "objaverse_old/ac6c00e9d60e423e8b1de41252004f7f\n",
      "objaverse/49d0b3d6bd134acb8c4804b972151d29\n",
      "objaverse_old/1cbd097b5612456ba78b782a8221144e\n",
      "partnet_mobility/104038\n",
      "hssd-models/objects/6/6267aeaf1c9312e3d756923ede63c52c074ce307\n",
      "gr100/home-others-pillow-efe6b54f52079980e13fa19e9b07b92d\n",
      "hssd-models/objects/x/xxxx8a64d36ax736ax4dc9x99f8xa2b68365e94e\n",
      "hssd-models/objects/x/xxxx8a64d36ax736ax4dc9x99f8xa2b68365e94e\n",
      "hssd-models/objects/9/94caa134a7e999d3a8df744064177f2350593df1\n",
      "gr100/commercial-others-pillow-4e976ee69cb37bcb35d250575f7fc654\n",
      "hssd-models/objects/b/ba01530d043d906de59d3cebf910365e2d0f3b23\n",
      "objaverse_old/7e12160f27c94a2fb121fc14878fc972\n",
      "objaverse/7eb9549a6db1488e8b558bf6eedec6ae\n",
      "hssd-models/objects/f/fcd3cdb03e553cd619428f7b0029ea46bd6bd977\n",
      "gr100/commercial-others-picture-56087eb8130d0e371a50e10616ba126e\n",
      "gr100/commercial-others-cup-f955665b023ec5db2036a58ac39329bf\n",
      "objaverse/037b03a3e0274279be4b93b7c7cedf01\n",
      "hssd-models/objects/9/92b0589a6aeb4104cc9b5dc68ad5673f03d41cdb\n",
      "gr100/commercial-others-picture-56087eb8130d0e371a50e10616ba126e\n",
      "gr100/home-others-cup-2ecb8b8b0df7dcb89b62ff1b8a7b0567\n",
      "gr100/home-others-book-3c22c63e1486ea917350c146b51e38b3\n",
      "hssd-models/objects/a/a13475d927ae8e04cd3bbfa6e384ee0330d8e6a3\n",
      "gr100/commercial-others-basket-70c119f3917e33a6592e853b200507ba\n",
      "gr100/commercial-others-picture-56087eb8130d0e371a50e10616ba126e\n",
      "gr100/commercial-others-picture-5bbee9cdcef36131287da4067d079398\n",
      "gr100/commercial-others-picture-535dbb0da8cab89913c4246fd6d03180\n",
      "gr100/commercial-others-shoe-f2cf349d880229fdba42fcede0ff911e\n",
      "gr100/home-others-book-6e0e47532a4bddbceb93a55c1d4b3518\n",
      "hssd-models/objects/7/78bd5dbf1d365e2f34c10dc468a5decf3024e79b\n",
      "hssd-models/objects/a/ad87281ca93b236560306a08f0953ba340e85c3c\n",
      "gr100/home-others-towel-59b00a957828daa51d39ea043d0e751d\n",
      "objaverse/1e88c90205f244f2af50e42079062006\n",
      "gr100/commercial-others-basket-7ed06230ee8cbca3b4ca9ca3bef2de56\n",
      "objaverse/b6aa6e7f91d545f3bb5d4027a83e2da1\n",
      "objaverse_old/181e3f451b1f40a6aa17702a8648760b\n",
      "objaverse/4d19f0d33802411d83ff9061c033268d\n",
      "hssd-models/objects/4/491b19211376dfda637fbbaec406cd5c7d4e6ae1\n",
      "gr100/commercial-others-bottle-07249a8ffce099b71b995ad9b8e15cd1\n",
      "objaverse/538e1ff6ba0f44fc9ff498b62d89f970\n",
      "objaverse/06f95c94a25b4ab1883ed3b8929cca9d\n",
      "objaverse/9ecfaed39d23496d803708155a47a3aa\n",
      "partnet_mobility/100906\n",
      "gr100/home-others-towel-3539dd8d0bbe458f390a03842c98800e\n",
      "partnet_mobility/100033\n",
      "objaverse/af514ae1105f4aa5b0496a79e42a0fee\n",
      "gr100/commercial-others-bowl-55b8dc1be14ca07768041de21b89b1b1\n",
      "gr100/commercial-others-bowl-55b8dc1be14ca07768041de21b89b1b1\n",
      "gr100/commercial-others-picture-5bbee9cdcef36131287da4067d079398\n",
      "hssd-models/objects/0/0235b214f27bbe9539c1b9ca31a6ebd252f92c77\n",
      "objaverse/a7d2d52882c440c1a8ee0815cd314765\n",
      "objaverse/444a0c2f7ed449be9f127341b4eb2137\n",
      "partnet_mobility/15913\n",
      "gr100/home-others-towel-f513f4f1ac9b788c47f92f0130486402\n"
     ]
    }
   ],
   "source": [
    "# code starts here\n",
    "import os\n",
    "import sys\n",
    "import json\n",
    "from pathlib import Path\n",
    "BASE_DIR = Path(os.getcwd()).parent\n",
    "sys.path.append(str(BASE_DIR))\n",
    "\n",
    "# load model_uids\n",
    "json_path = os.path.join(BASE_DIR, \"data/Layout_info/scannet/scene0000_00/layout.json\")\n",
    "instance_infos = json.load(open(json_path, \"r\"))\n",
    "for instance_info in instance_infos:\n",
    "    model_uid = instance_info[\"model_uid\"]\n",
    "    print(model_uid)\n"
   ]
  }
 ],
 "metadata": {
  "kernelspec": {
   "display_name": "embodiedscan",
   "language": "python",
   "name": "python3"
  },
  "language_info": {
   "codemirror_mode": {
    "name": "ipython",
    "version": 3
   },
   "file_extension": ".py",
   "mimetype": "text/x-python",
   "name": "python",
   "nbconvert_exporter": "python",
   "pygments_lexer": "ipython3",
   "version": "3.8.20"
  }
 },
 "nbformat": 4,
 "nbformat_minor": 2
}
